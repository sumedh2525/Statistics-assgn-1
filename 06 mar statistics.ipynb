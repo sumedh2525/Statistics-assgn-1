{
 "cells": [
  {
   "cell_type": "raw",
   "id": "6e57d0bd-e8f7-4caa-bc86-60ad0e36cbcf",
   "metadata": {},
   "source": [
    "Q1. What is Statistics?\n",
    "\n",
    "\n",
    "Ans :- statistics in  python  is the branch of python programming that deals with the analysis and presentation of data\n",
    "python provides a wide range of powerful statistical libraries and modules that coan be used for various statistical opertions\n",
    "such as data analysis , data visualization hypothesis testing, probability distributions and much more."
   ]
  },
  {
   "cell_type": "raw",
   "id": "82546f4e-bdb9-4f43-9298-03b3670c054f",
   "metadata": {},
   "source": [
    "Q2. Define the different types of statistics and give an example of when each type might be used.\n",
    "\n",
    "\n",
    "Descriptive Statistics: In Python , descriptive statistics can be calculated using functions such as mean() , median() , mode() , std() , var() , min() , and max() from the NumPy library.\n",
    "Inferential Statistics: In Python, inferential statistics can be used to make inferences about a population based on a sample\n",
    "Predictive Statistics: In Python, predictive statistics can be performed using machine learning algorithms and libraries such as scikit-learn and TensorFlow. \n",
    "Causal Statistics: In Python, causal statistics can be performed using libraries such as causalinference and dowhy.\n"
   ]
  },
  {
   "cell_type": "raw",
   "id": "f355a1b7-277e-492e-8921-3ea393629fab",
   "metadata": {},
   "source": [
    "Q3. What are the different types of data and how do they differ from each other? Provide an example of\n",
    "each type of data\n",
    "\n",
    "Ans: In statistics there are four main types of data: nominal, ordinal, interval, and ratio. \n",
    "\n",
    "Nominal Data: Nominal data is a categorical data type that is used to represent discrete variables without any order or ranking\n",
    "\n",
    "Ordinal Data: Ordinal data is a categorical data type that is used to represent discrete variables with a natural order or ranking\n",
    "\n",
    "Interval Data: Interval data is a numerical data type that is used to represent continuous variables with a fixed and equal interval between each value\n",
    "\n",
    "Ratio Data: Ratio data is a numerical data type that is used to represent continuous variables with a fixed and equal interval between each value and a true zero point"
   ]
  },
  {
   "cell_type": "code",
   "execution_count": null,
   "id": "b24b5d7c-de85-46ac-bd54-000c1303f4b8",
   "metadata": {},
   "outputs": [],
   "source": []
  },
  {
   "cell_type": "raw",
   "id": "21125c9f-cf9c-4ec0-8b3d-7d1dbbb0beea",
   "metadata": {},
   "source": [
    "Q4. Categorise the following datasets with respect to quantitative and qualitative data types:\n",
    "(i) Grading in exam: A+, A, B+, B, C+, C, D, E\n",
    "(ii) Colour of mangoes: yellow, green, orange, red\n",
    "(iii) Height data of a class: [178.9, 179, 179.5, 176, 177.2, 178.3, 175.8,...]\n",
    "(iv) Number of mangoes exported by a farm: [500, 600, 478, 672, ...]\n",
    "\n",
    "\n",
    "Ans:\n",
    "(i) Grading in exam: This is a qualitative data type, specifically an ordinal data type, because the grades can be ranked in order from best to worst , but the difference between the grades is not necessarily equal.\n",
    "\n",
    "(ii) Colour of mangoes: This is also a qualitative data type, specifically a nominal data type , because the different colors of mangoes represent distinct categories with no inherent order.\n",
    "\n",
    "(iii) Height data of a class: This is a quantitative data type, specifically a continuous numerical data typ e, because it represents real numbers with a fixed and equal interval between each value.\n",
    "\n",
    "(iv) Number of mangoes exported by a farm: This is a quantitative data type , specifically a discrete numerical data type , because it represents whole numbers with a fixed and equal interval between each value."
   ]
  },
  {
   "cell_type": "raw",
   "id": "64eac0be-0c1e-49af-9197-3edb9200249c",
   "metadata": {},
   "source": [
    "Q5. Explain the concept of levels of measurement and give an example of a variable for each level.\n",
    "\n",
    "Ans:\n",
    "Nominal: This is the lowest level of measurement . It involves assigning a label or name to a variable . Nominal data cannot be ranked, and mathematical operations such as addition and subtraction cannot be performed on it\n",
    "\n",
    "Ordinal: This level of measurement involves ordering the data. The data can be ranked, but the difference between each rank is not necessarily equal. \n",
    "\n",
    "Interval: This level of measurement involves measuring the distance between values. The difference between each value is equal, but there is no true zero point\n",
    "\n",
    "Ratio: This is the highest level of measurement. It involves measuring the distance between values with a true zero point"
   ]
  },
  {
   "cell_type": "raw",
   "id": "948ef338-38fc-4b0e-9174-a1cebabd609d",
   "metadata": {},
   "source": [
    "Q6. Why is it important to understand the level of measurement when analyzing data? Provide an\n",
    "example to illustrate your answer.\n",
    "\n",
    "Ans:\n",
    "It is important to understand the level of measurement when analyzing data because it determines the types of statistical analyses that can be used and the appropriate ways to interpret the results.\n",
    "\n",
    "For example if a researcher wants to study the relationship between income and job satisfaction , they need to know the level of measurement of both variables. Income is a ratio variablen , meaning that mathematical operations such as addition , subtraction, multiplication, and division can be performed on it. Job satisfaction, on the other hand , is an ordinal variable , meaning that it can be ranked but the difference between each rank is not necessarily equal. "
   ]
  },
  {
   "cell_type": "raw",
   "id": "14114b85-f659-40b8-9ef4-236d65dcccf8",
   "metadata": {},
   "source": [
    "Q7. How nominal data type is different from ordinal data type.\n",
    "\n",
    "Ans:\n",
    "Nominal data refers to data that is categorical in nature and consists of names, labels, or categories. Nominal data cannot be ranked, and there is no inherent order to the categories\n",
    "Ordinal data, on the other hand, is also categorical in nature but the categories can be ranked or ordered. The categories have an inherent order, meaning that one category is greater or lesser than another"
   ]
  },
  {
   "cell_type": "raw",
   "id": "b1b0ed27-0fb5-47d5-b43f-b7017eb6bea1",
   "metadata": {},
   "source": [
    "Q8. Which type of plot can be used to display data in terms of range?\n",
    "\n",
    "Ans:\n",
    "A box plot (also known as a box-and-whisker plot) is a type of plot that can be used to display data in terms of range."
   ]
  },
  {
   "cell_type": "raw",
   "id": "e2dc12b5-1171-4ffb-870e-8234df3e0522",
   "metadata": {},
   "source": [
    "Q9. Describe the difference between descriptive and inferential statistics. Give an example of each\n",
    "type of statistics and explain how they are used.\n",
    "\n",
    "Ans:\n",
    "Descriptive statistics is concerned with summarizing and describing a dataset. It involves measures such as mean, median, mode, variance, and standard deviation, which provide information about the central tendency and variability of a dataset. \n",
    "\n",
    "Inferential statistics, on the other hand, is concerned with making inferences and predictions about a population based on a sample of data. Inferential statistics involve hypothesis testing and confidence intervals, which allow researchers to draw conclusions about a population based on the characteristics of a sample.\n",
    "\n",
    "descriptive statistics are used to summarize and describe data, while inferential statistics are used to make inferences and predictions about a population based on a sample. "
   ]
  },
  {
   "cell_type": "raw",
   "id": "84328428-aa64-48d4-a32f-6f3cd6c146f2",
   "metadata": {},
   "source": [
    "Q10. What are some common measures of central tendency and variability used in statistics? Explain\n",
    "how each measure can be used to describe a dataset.\n",
    "\n",
    "Ans:\n",
    "The mean is the arithmetic average of a set of values. It is calculated by adding up all the values in the dataset and dividing by the number of values. The mean is sensitive to outliers and extreme values, and can be influenced by skewed data.\n",
    "\n",
    "The median is the middle value in a dataset. It is calculated by arranging the values in order and finding the middle value. The median is not affected by extreme values and can be useful when dealing with skewed data.\n",
    "\n",
    "The mode is the most common value in a dataset. It is calculated by finding the value that occurs most frequently. The mode is useful when dealing with categorical or nominal data."
   ]
  }
 ],
 "metadata": {
  "kernelspec": {
   "display_name": "Python 3 (ipykernel)",
   "language": "python",
   "name": "python3"
  },
  "language_info": {
   "codemirror_mode": {
    "name": "ipython",
    "version": 3
   },
   "file_extension": ".py",
   "mimetype": "text/x-python",
   "name": "python",
   "nbconvert_exporter": "python",
   "pygments_lexer": "ipython3",
   "version": "3.10.8"
  }
 },
 "nbformat": 4,
 "nbformat_minor": 5
}
